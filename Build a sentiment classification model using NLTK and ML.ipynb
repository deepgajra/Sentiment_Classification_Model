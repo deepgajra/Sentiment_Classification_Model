{
 "cells": [
  {
   "cell_type": "code",
   "execution_count": 1,
   "id": "fb3ffebb-282e-4311-a8ac-274cac6982c3",
   "metadata": {},
   "outputs": [],
   "source": [
    "import nltk\n",
    "from nltk.corpus import movie_reviews\n",
    "from nltk.classify import NaiveBayesClassifier\n",
    "from nltk.classify.util import accuracy as nltk_accuracy\n",
    "from nltk.corpus import stopwords\n",
    "from nltk.tokenize import word_tokenize"
   ]
  },
  {
   "cell_type": "code",
   "execution_count": 2,
   "id": "d5b5382c-2afd-4f8b-a320-c060f16350a4",
   "metadata": {},
   "outputs": [],
   "source": [
    "import random"
   ]
  },
  {
   "cell_type": "code",
   "execution_count": 3,
   "id": "47f2a230-242e-40ba-b527-0b9b9c611a35",
   "metadata": {},
   "outputs": [
    {
     "name": "stderr",
     "output_type": "stream",
     "text": [
      "[nltk_data] Downloading package movie_reviews to\n",
      "[nltk_data]     C:\\Users\\Lenovo\\AppData\\Roaming\\nltk_data...\n",
      "[nltk_data]   Unzipping corpora\\movie_reviews.zip.\n"
     ]
    },
    {
     "data": {
      "text/plain": [
       "True"
      ]
     },
     "execution_count": 3,
     "metadata": {},
     "output_type": "execute_result"
    }
   ],
   "source": [
    "nltk.download('movie_reviews')"
   ]
  },
  {
   "cell_type": "code",
   "execution_count": 4,
   "id": "fb6c927a-5001-441e-b7d4-ca8de8a07750",
   "metadata": {},
   "outputs": [],
   "source": [
    "documents = [(list(movie_reviews.words(fileid)), category)\n",
    "             for category in movie_reviews.categories()\n",
    "             for fileid in movie_reviews.fileids(category)]"
   ]
  },
  {
   "cell_type": "code",
   "execution_count": 5,
   "id": "2b399287-edd1-4459-bc4f-c9bffc6e41ed",
   "metadata": {},
   "outputs": [],
   "source": [
    "#shuffle the documents\n",
    "random.shuffle(documents)"
   ]
  },
  {
   "cell_type": "code",
   "execution_count": 8,
   "id": "8605f9e7-acda-4430-82d6-feddd0ee039b",
   "metadata": {},
   "outputs": [],
   "source": [
    "def extract_features(words):\n",
    "    return dict([(word,True) for word in words if word not in stopwords.words('english')])"
   ]
  },
  {
   "cell_type": "code",
   "execution_count": 9,
   "id": "bf7666a9-2b93-44a3-8d1c-a2e9b9876c6b",
   "metadata": {},
   "outputs": [],
   "source": [
    "# Define the feature sets\n",
    "featuresets = [(extract_features(doc), category) for (doc, category) in documents]"
   ]
  },
  {
   "cell_type": "code",
   "execution_count": 10,
   "id": "929bf321-15e1-46fe-b937-0937ef729be3",
   "metadata": {},
   "outputs": [],
   "source": [
    "# Split the feature sets into training and testing datasets\n",
    "train_set, test_set = featuresets[100:],featuresets[:100]"
   ]
  },
  {
   "cell_type": "code",
   "execution_count": 12,
   "id": "d071ebd1-0874-4f61-829c-496a64452fb9",
   "metadata": {},
   "outputs": [],
   "source": [
    "classifier = NaiveBayesClassifier.train(train_set)"
   ]
  },
  {
   "cell_type": "code",
   "execution_count": 13,
   "id": "21b3b7e9-1356-45c0-95a8-0239967c7632",
   "metadata": {},
   "outputs": [
    {
     "name": "stdout",
     "output_type": "stream",
     "text": [
      "Accuracy:  0.68\n"
     ]
    }
   ],
   "source": [
    "print('Accuracy: ', nltk_accuracy(classifier, test_set))"
   ]
  },
  {
   "cell_type": "code",
   "execution_count": 14,
   "id": "0241a123-5a32-45cf-86f2-d82fcc16231d",
   "metadata": {},
   "outputs": [],
   "source": [
    "def sentiment_analysis(text):\n",
    "    words = word_tokenize(text)\n",
    "    features = extract_features(words)\n",
    "    return classifier.classify(features)"
   ]
  },
  {
   "cell_type": "code",
   "execution_count": 15,
   "id": "41cc1e6c-65f7-4911-bf8f-22f0ffeb5dd6",
   "metadata": {},
   "outputs": [
    {
     "name": "stdout",
     "output_type": "stream",
     "text": [
      "Review\" shrikant is a great guy\n"
     ]
    }
   ],
   "source": [
    "#write a new review\n",
    "new_review = 'shrikant is a great guy'\n",
    "print('Review\"',new_review)"
   ]
  },
  {
   "cell_type": "code",
   "execution_count": 16,
   "id": "4927cdef-1fce-456b-80c7-2ebbd7e434a3",
   "metadata": {},
   "outputs": [
    {
     "name": "stdout",
     "output_type": "stream",
     "text": [
      "Sentiment: pos\n"
     ]
    }
   ],
   "source": [
    "#check result for new review\n",
    "print('Sentiment:',sentiment_analysis(new_review))"
   ]
  },
  {
   "cell_type": "code",
   "execution_count": 21,
   "id": "e9aebf50-cb45-451a-83d1-3771d9848fd0",
   "metadata": {},
   "outputs": [
    {
     "name": "stdout",
     "output_type": "stream",
     "text": [
      "Review\" shrikant is a great guy but he uses worst words\n"
     ]
    }
   ],
   "source": [
    "#write a new review\n",
    "new_review = 'shrikant is a great guy but he uses worst words'\n",
    "print('Review\"',new_review)"
   ]
  },
  {
   "cell_type": "code",
   "execution_count": 22,
   "id": "41ba7691-8293-48a7-8f5c-46fb2d5cab09",
   "metadata": {},
   "outputs": [
    {
     "name": "stdout",
     "output_type": "stream",
     "text": [
      "Sentiment: neg\n"
     ]
    }
   ],
   "source": [
    "#check result for new review\n",
    "print('Sentiment:',sentiment_analysis(new_review))"
   ]
  },
  {
   "cell_type": "code",
   "execution_count": null,
   "id": "3d2ae8fe-d5b5-4f04-a088-abf6b528481f",
   "metadata": {},
   "outputs": [],
   "source": []
  }
 ],
 "metadata": {
  "kernelspec": {
   "display_name": "Python 3 (ipykernel)",
   "language": "python",
   "name": "python3"
  },
  "language_info": {
   "codemirror_mode": {
    "name": "ipython",
    "version": 3
   },
   "file_extension": ".py",
   "mimetype": "text/x-python",
   "name": "python",
   "nbconvert_exporter": "python",
   "pygments_lexer": "ipython3",
   "version": "3.11.7"
  }
 },
 "nbformat": 4,
 "nbformat_minor": 5
}
